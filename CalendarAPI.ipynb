{
 "cells": [
  {
   "cell_type": "markdown",
   "metadata": {},
   "source": [
    "# Calendar API\n",
    "\n",
    "Useful for working out consulting hours and task descriptions.\n",
    "\n",
    "## Requires\n",
    "\n",
    "Google calender where you input your events in an accessible calendar in with event summaries in the form:\n",
    "\n",
    "    ClientName: some summary text\n",
    "\n",
    "The output in the last cell of this notebook will then be similar to:\n",
    "\n",
    "    Getting consulting events in date range for ClientName:\n",
    "\n",
    "    2019-07-26 1.0 ClientName: some summary text\n",
    "    2019-08-02 5.0 ClientName: a longer task\n",
    "    Some notes I wrote in the description of this calendar event \n",
    "    * maybe a point\n",
    "    * or two\n",
    "\n",
    "    Summary for ClientName:\n",
    "\n",
    "        Date from =  2019-07-24\n",
    "          Date To =  2019-08-27\n",
    "      Total hours =  1.0\n",
    "\n",
    "Where each event is listed with the date, number of hours and the summary text. If descriptions exist they are listed under the relevant summary\n",
    "\n",
    "## Instructions for connecting your calendar\n",
    "\n",
    "The following link tells you more information about the basis code I used for this notebook and how to install the packages and connect your own calendar.\n",
    "\n",
    "https://developers.google.com/calendar/quickstart/python"
   ]
  },
  {
   "cell_type": "code",
   "execution_count": null,
   "metadata": {},
   "outputs": [],
   "source": [
    "from __future__ import print_function\n",
    "import datetime\n",
    "import pickle\n",
    "import os.path\n",
    "from googleapiclient.discovery import build\n",
    "from google_auth_oauthlib.flow import InstalledAppFlow\n",
    "from google.auth.transport.requests import Request\n"
   ]
  },
  {
   "cell_type": "code",
   "execution_count": null,
   "metadata": {},
   "outputs": [],
   "source": [
    "# If modifying these scopes, delete the file token.pickle.\n",
    "SCOPES = ['https://www.googleapis.com/auth/calendar.readonly']\n",
    "\n",
    "# calendar id(s) - I usually have my consulting work in a non-primary calendar\n",
    "calendar_id = 'primary'"
   ]
  },
  {
   "cell_type": "code",
   "execution_count": null,
   "metadata": {},
   "outputs": [],
   "source": [
    "def initCalendarService():\n",
    "    \"\"\"Shows basic usage of the Google Calendar API.\n",
    "    Prints the start and name of the next 10 events on the user's calendar.\n",
    "    \"\"\"\n",
    "    creds = None\n",
    "    # The file token.pickle stores the user's access and refresh tokens, and is\n",
    "    # created automatically when the authorization flow completes for the first\n",
    "    # time.\n",
    "    if os.path.exists('token.pickle'):\n",
    "        with open('token.pickle', 'rb') as token:\n",
    "            creds = pickle.load(token)\n",
    "    # If there are no (valid) credentials available, let the user log in.\n",
    "    if not creds or not creds.valid:\n",
    "        if creds and creds.expired and creds.refresh_token:\n",
    "            creds.refresh(Request())\n",
    "        else:\n",
    "            flow = InstalledAppFlow.from_client_secrets_file(\n",
    "                'credentials.json', SCOPES)\n",
    "            creds = flow.run_local_server(port=0)\n",
    "        # Save the credentials for the next run\n",
    "        with open('token.pickle', 'wb') as token:\n",
    "            pickle.dump(creds, token)\n",
    "\n",
    "    service = build('calendar', 'v3', credentials=creds)\n",
    "    return service"
   ]
  },
  {
   "cell_type": "markdown",
   "metadata": {},
   "source": [
    "datetime.fromisoformat(date_string)\n",
    "\n",
    "    Return a datetime corresponding to a date_string in one of the formats emitted by date.isoformat() and datetime.isoformat(). Specifically, this function supports strings in the format(s) YYYY-MM-DD[*HH[:MM[:SS[.fff[fff]]]][+HH:MM[:SS[.ffffff]]]], where * can match any single character."
   ]
  },
  {
   "cell_type": "code",
   "execution_count": null,
   "metadata": {},
   "outputs": [],
   "source": [
    "def getDurationHours(startDate='2019-07-15T13:10:00+10:00', endDate='2019-07-15T15:10:00+10:00'):\n",
    "    from datetime import datetime\n",
    "    duration = datetime.fromisoformat(endDate) - datetime.fromisoformat(startDate)\n",
    "    return round(duration.seconds/60/60, 1)\n",
    "\n",
    "def convertDateToText(startDate='2019-07-15T13:10:00+10:00'):\n",
    "    return startDate.split('T')[0]\n"
   ]
  },
  {
   "cell_type": "markdown",
   "metadata": {},
   "source": [
    "\n",
    "## Get the next 10 events\n",
    "\n",
    "For more info on events\n",
    "\n",
    "https://developers.google.com/calendar/v3/reference/events\n",
    "\n",
    "\n"
   ]
  },
  {
   "cell_type": "code",
   "execution_count": null,
   "metadata": {},
   "outputs": [],
   "source": [
    "service = initCalendarService()\n",
    "\n",
    "# Call the Calendar API\n",
    "now = datetime.datetime.utcnow().isoformat() + 'Z' # 'Z' indicates UTC time\n",
    "\n",
    "print('Getting the upcoming 10 events from consulting')\n",
    "events_result = service.events().list(calendarId=calendar_id, timeMin=now,\n",
    "                                    maxResults=10, singleEvents=True,\n",
    "                                    orderBy='startTime').execute()\n",
    "events = events_result.get('items', [])\n",
    "\n",
    "if not events:\n",
    "    print('No upcoming events found.')\n",
    "for event in events:\n",
    "    startDate = event['start'].get('dateTime', event['start'].get('date'))\n",
    "    endDate = event['end'].get('dateTime', event['end'].get('date'))\n",
    "    print(type(endDate))\n",
    "    print(startDate, endDate, event['summary'])"
   ]
  },
  {
   "cell_type": "markdown",
   "metadata": {},
   "source": [
    "List options from https://developers.google.com/calendar/v3/reference/events/list\n",
    "\n",
    "    timeMax \tdatetime \tUpper bound (exclusive) for an event's start time to filter by. Optional. The default is not to filter by start time. Must be an RFC3339 timestamp with mandatory time zone offset, for example, 2011-06-03T10:00:00-07:00, 2011-06-03T10:00:00Z. Milliseconds may be provided but are ignored. If timeMin is set, timeMax must be greater than timeMin.\n",
    "\n",
    "    timeMin \tdatetime \tLower bound (exclusive) for an event's end time to filter by. Optional. The default is not to filter by end time. Must be an RFC3339 timestamp with mandatory time zone offset, for example, 2011-06-03T10:00:00-07:00, 2011-06-03T10:00:00Z. Milliseconds may be provided but are ignored. If timeMax is set, timeMin must be smaller than timeMax. "
   ]
  },
  {
   "cell_type": "code",
   "execution_count": null,
   "metadata": {},
   "outputs": [],
   "source": [
    "timeMinText = '2019-07-24T00:00:00+10:00' # AEST at end\n",
    "timeMaxText = '2019-08-27T00:59:00+10:00'\n",
    "keyWord = 'ClientName:'\n",
    "\n",
    "print('Getting consulting events in date range for', keyWord)\n",
    "print()\n",
    "events_result = service.events().list(calendarId=calendar_id, \n",
    "                                      timeMin=timeMinText, timeMax=timeMaxText,\n",
    "                                      singleEvents=True, orderBy='startTime').execute()\n",
    "events = events_result.get('items', [])\n",
    "\n",
    "total_hours = 0.0\n",
    "if not events:\n",
    "    print('No events found.')\n",
    "for event in events:\n",
    "    startDate = event['start'].get('dateTime', event['start'].get('date'))\n",
    "    endDate = event['end'].get('dateTime', event['end'].get('date'))\n",
    "    summaryText = event['summary']\n",
    "    try:\n",
    "        descriptionText = event['description']\n",
    "    except:\n",
    "        descriptionText = ''\n",
    "# https://developers.google.com/calendar/v3/reference/events/list\n",
    "    if(keyWord in summaryText):\n",
    "        duration = getDurationHours(startDate, endDate)\n",
    "        total_hours += duration\n",
    "        startDateText = convertDateToText(startDate)\n",
    "        print(startDateText, duration, summaryText, descriptionText)\n",
    "        last_event = event.copy()\n",
    "        \n",
    "# summary\n",
    "print('\\nSummary for', keyWord)\n",
    "print('    Date from = ', convertDateToText(timeMinText))\n",
    "print('      Date To = ', convertDateToText(timeMaxText))\n",
    "print('  Total hours = ', total_hours)"
   ]
  }
 ],
 "metadata": {
  "kernelspec": {
   "display_name": "Python (base)",
   "language": "python",
   "name": "base"
  },
  "language_info": {
   "codemirror_mode": {
    "name": "ipython",
    "version": 3
   },
   "file_extension": ".py",
   "mimetype": "text/x-python",
   "name": "python",
   "nbconvert_exporter": "python",
   "pygments_lexer": "ipython3",
   "version": "3.7.3"
  }
 },
 "nbformat": 4,
 "nbformat_minor": 2
}
